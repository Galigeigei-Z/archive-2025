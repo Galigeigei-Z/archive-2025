{
 "cells": [
  {
   "cell_type": "code",
   "execution_count": null,
   "id": "b49fb010",
   "metadata": {},
   "outputs": [
    {
     "name": "stdout",
     "output_type": "stream",
     "text": [
      "\n",
      "=== 各算法时间得分表 (线性归一化) ===\n",
      "       Time (s)  Time Score  Overall Score\n",
      "ALAMO     0.043       1.000          1.000\n",
      "NDCT      0.051       0.965          0.965\n",
      "PLY       0.053       0.957          0.957\n",
      "RBF       0.219       0.235          0.235\n",
      "KRG       0.273       0.000          0.000\n",
      "Keras     0.169       0.452          0.452\n"
     ]
    }
   ],
   "source": [
    "import numpy as np\n",
    "import pandas as pd\n",
    "\n",
    "\n",
    "def compute_time_scores(times: dict, eps: float = 1e-12):\n",
    "    algs = list(times.keys())\n",
    "    Y = np.array([times[a] for a in algs], dtype=float)\n",
    "\n",
    "    worst, best = Y.max(), Y.min()\n",
    "    denom = worst - best if worst > best else 1.0\n",
    "\n",
    "  \n",
    "    scores = (worst - Y) / denom\n",
    "    return pd.Series(np.clip(scores, 0.0, 1.0), index=algs)\n",
    "\n",
    "\n",
    "times = {\n",
    "    \"ALAMO\": 0.043,\n",
    "    \"NDCT\": 0.051,\n",
    "    \"PLY\": 0.053,\n",
    "    \"RBF\": 0.219,\n",
    "    \"KRG\": 0.273,\n",
    "    \"Keras\": 0.169\n",
    "}\n",
    "\n",
    "time_scores = compute_time_scores(times)\n",
    "\n",
    "overall = (time_scores - time_scores.min()) / (time_scores.max() - time_scores.min())\n",
    "\n",
    "\n",
    "df_scores = pd.DataFrame({\n",
    "    \"Time (s)\": times,\n",
    "    \"Time Score\": time_scores,\n",
    "    \"Overall Score\": overall\n",
    "})\n",
    "\n",
    "\n",
    "print(\"\\n=== 各算法时间得分表 (线性归一化) ===\")\n",
    "print(df_scores.round(3))\n"
   ]
  }
 ],
 "metadata": {
  "kernelspec": {
   "display_name": "my-idaes-env",
   "language": "python",
   "name": "python3"
  },
  "language_info": {
   "codemirror_mode": {
    "name": "ipython",
    "version": 3
   },
   "file_extension": ".py",
   "mimetype": "text/x-python",
   "name": "python",
   "nbconvert_exporter": "python",
   "pygments_lexer": "ipython3",
   "version": "3.9.23"
  }
 },
 "nbformat": 4,
 "nbformat_minor": 5
}
