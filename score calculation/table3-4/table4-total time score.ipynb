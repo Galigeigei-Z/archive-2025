{
 "cells": [
  {
   "cell_type": "code",
   "execution_count": null,
   "id": "b49fb010",
   "metadata": {},
   "outputs": [
    {
     "name": "stdout",
     "output_type": "stream",
     "text": [
      "\n",
      "=== 各算法时间得分表 (log 归一化) ===\n",
      "       Time (s)  Time Score (log)  Overall Score\n",
      "ALAMO     0.383             0.802          0.802\n",
      "NDCT      0.051             1.000          1.000\n",
      "PLY      21.597             0.405          0.405\n",
      "RBF      42.357             0.339          0.339\n",
      "KRG    1336.026             0.000          0.000\n",
      "Keras    43.608             0.336          0.336\n"
     ]
    }
   ],
   "source": [
    "import numpy as np\n",
    "import pandas as pd\n",
    "\n",
    "\n",
    "def compute_time_scores(times: dict, eps: float = 1e-12):\n",
    "    algs = list(times.keys())\n",
    "    Y = np.array([times[a] for a in algs], dtype=float)\n",
    "\n",
    "   \n",
    "    Yt = np.log(Y + eps)\n",
    "\n",
    "    worst, best = Yt.max(), Yt.min()\n",
    "    denom = worst - best if worst > best else 1.0\n",
    "\n",
    "    \n",
    "    scores = (worst - Yt) / denom\n",
    "    return pd.Series(np.clip(scores, 0.0, 1.0), index=algs)\n",
    "\n",
    "\n",
    "times = {\n",
    "    \"ALAMO\": 0.383,\n",
    "    \"NDCT\": 0.051,\n",
    "    \"PLY\": 21.597,\n",
    "    \"RBF\": 42.357,\n",
    "    \"KRG\": 1336.026,\n",
    "    \"Keras\": 43.608\n",
    "}\n",
    "\n",
    "\n",
    "time_scores = compute_time_scores(times)\n",
    "\n",
    "\n",
    "overall = (time_scores - time_scores.min()) / (time_scores.max() - time_scores.min())\n",
    "\n",
    "\n",
    "df_scores = pd.DataFrame({\n",
    "    \"Time (s)\": times,\n",
    "    \"Time Score (log)\": time_scores,\n",
    "    \"Overall Score\": overall\n",
    "})\n",
    "\n",
    "\n",
    "print(\"\\n=== 各算法时间得分表 (log 归一化) ===\")\n",
    "print(df_scores.round(3))\n"
   ]
  }
 ],
 "metadata": {
  "kernelspec": {
   "display_name": "my-idaes-env",
   "language": "python",
   "name": "python3"
  },
  "language_info": {
   "codemirror_mode": {
    "name": "ipython",
    "version": 3
   },
   "file_extension": ".py",
   "mimetype": "text/x-python",
   "name": "python",
   "nbconvert_exporter": "python",
   "pygments_lexer": "ipython3",
   "version": "3.9.23"
  }
 },
 "nbformat": 4,
 "nbformat_minor": 5
}
